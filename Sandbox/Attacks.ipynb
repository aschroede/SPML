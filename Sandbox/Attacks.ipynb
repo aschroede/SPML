{
 "cells": [
  {
   "cell_type": "code",
   "execution_count": null,
   "metadata": {},
   "outputs": [],
   "source": [
    "import matplotlib.pyplot as plt\n",
    "import numpy as np\n",
    "\n",
    "def show_images(original, adversarial_fgsm, adversarial_pgd, label):\n",
    "    # Convert tensors to NumPy arrays for visualization\n",
    "    original = original.squeeze().detach().cpu().numpy()\n",
    "    adversarial_fgsm = adversarial_fgsm.squeeze().detach().cpu().numpy()\n",
    "    adversarial_pgd = adversarial_pgd.squeeze().detach().cpu().numpy()\n",
    "\n",
    "    # Plot images\n",
    "    fig, axes = plt.subplots(1, 3, figsize=(12, 4))\n",
    "    titles = [\"Original\", \"FGSM Perturbed\", \"PGD Perturbed\"]\n",
    "    \n",
    "    for ax, img, title in zip(axes, [original, adversarial_fgsm, adversarial_pgd], titles):\n",
    "        ax.imshow(img, cmap=\"gray\")\n",
    "        ax.set_title(title)\n",
    "        ax.axis(\"off\")\n",
    "\n",
    "    plt.show()\n",
    "\n"
   ]
  },
  {
   "cell_type": "code",
   "execution_count": null,
   "metadata": {},
   "outputs": [
    {
     "name": "stderr",
     "output_type": "stream",
     "text": [
      "Using cache found in /home/andrew/.cache/torch/hub/pytorch_vision_v0.10.0\n"
     ]
    }
   ],
   "source": [
    "import torch\n",
    "import torch.nn as nn\n",
    "import torch.optim as optim\n",
    "import torchvision.transforms as transforms\n",
    "import torchvision.datasets as datasets\n",
    "from torch.utils.data import DataLoader\n",
    "\n",
    "# Load a sample dataset (MNIST)\n",
    "transform = transforms.Compose([transforms.ToTensor()])\n",
    "dataset = datasets.MNIST(root=\"./data\", train=False, transform=transform, download=True)\n",
    "dataloader = DataLoader(dataset, batch_size=1, shuffle=True)\n",
    "\n",
    "# Load a pretrained model (LeNet-style CNN for MNIST)\n",
    "model = torch.hub.load('pytorch/vision:v0.10.0', 'mobilenet_v2', pretrained=True)\n",
    "model.eval()\n",
    "\n",
    "# FGSM Attack Function\n",
    "def fgsm_attack(model, image, label, epsilon):\n",
    "    image.requires_grad = True  # Enable gradient tracking\n",
    "    plt.imshow(image)\n",
    "    output = model(image)\n",
    "    loss = nn.CrossEntropyLoss()(output, label)\n",
    "    model.zero_grad()\n",
    "    loss.backward()\n",
    "    perturbation = epsilon * image.grad.sign()  # Compute perturbation\n",
    "    adv_image = torch.clamp(image + perturbation, 0, 1)  # Ensure valid pixel range\n",
    "    return adv_image\n",
    "\n",
    "# Run the attack on one image\n",
    "image, label = next(iter(dataloader))\n",
    "label = torch.tensor([label])  # Ensure correct shape\n",
    "epsilon = 0.1  # Small perturbation\n",
    "adv_image = fgsm_attack(model, image, label, epsilon)\n",
    "\n",
    "print(\"FGSM Attack Completed!\")\n"
   ]
  }
 ],
 "metadata": {
  "kernelspec": {
   "display_name": ".ML",
   "language": "python",
   "name": "python3"
  },
  "language_info": {
   "codemirror_mode": {
    "name": "ipython",
    "version": 3
   },
   "file_extension": ".py",
   "mimetype": "text/x-python",
   "name": "python",
   "nbconvert_exporter": "python",
   "pygments_lexer": "ipython3",
   "version": "3.12.3"
  }
 },
 "nbformat": 4,
 "nbformat_minor": 2
}
